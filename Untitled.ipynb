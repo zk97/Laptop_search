{
 "cells": [
  {
   "cell_type": "code",
   "execution_count": 41,
   "id": "e095e0d0-e484-48ed-9839-fdb99ef18258",
   "metadata": {},
   "outputs": [],
   "source": [
    "import json\n",
    "import configparser\n",
    "from pymongo import MongoClient"
   ]
  },
  {
   "cell_type": "code",
   "execution_count": 42,
   "id": "aac7ddc1-b19b-43b5-bffc-70924dbc7f7d",
   "metadata": {},
   "outputs": [],
   "source": [
    "config = configparser.ConfigParser()"
   ]
  },
  {
   "cell_type": "code",
   "execution_count": 43,
   "id": "8fae53c0-267b-4ed6-bc22-16008cf22b0d",
   "metadata": {},
   "outputs": [
    {
     "data": {
      "text/plain": [
       "['config.conf']"
      ]
     },
     "execution_count": 43,
     "metadata": {},
     "output_type": "execute_result"
    }
   ],
   "source": [
    "config.read('config.conf')"
   ]
  },
  {
   "cell_type": "code",
   "execution_count": 44,
   "id": "51f20f54-27fd-4239-8ffc-82767e25ed4e",
   "metadata": {},
   "outputs": [],
   "source": [
    "mongo_data = config['MONGO']"
   ]
  },
  {
   "cell_type": "code",
   "execution_count": 45,
   "id": "ae75ca56-89b8-4c35-8c99-33bcedfbd69c",
   "metadata": {},
   "outputs": [],
   "source": [
    "path_mongo = f'mongodb+srv://{mongo_data[\"user\"]}:{mongo_data[\"password\"]}{mongo_data[\"cluster\"]}'"
   ]
  },
  {
   "cell_type": "code",
   "execution_count": 46,
   "id": "31521194-6c3d-4967-9e9f-ac41742bc488",
   "metadata": {},
   "outputs": [],
   "source": [
    "client = MongoClient(path_mongo)"
   ]
  },
  {
   "cell_type": "code",
   "execution_count": 47,
   "id": "5448cbd8-26ed-43ca-8089-d1f9d22b6b02",
   "metadata": {},
   "outputs": [],
   "source": [
    "laptops = client['laptops']"
   ]
  },
  {
   "cell_type": "code",
   "execution_count": 48,
   "id": "f717f738-32e4-45a1-8d5f-f5dea0fadcff",
   "metadata": {},
   "outputs": [],
   "source": [
    "table = laptops['cyberpuerta']"
   ]
  },
  {
   "cell_type": "code",
   "execution_count": 52,
   "id": "38a3bfc7-2176-42bb-9608-af7c08ab1adf",
   "metadata": {},
   "outputs": [
    {
     "data": {
      "text/plain": [
       "<pymongo.results.DeleteResult at 0x1b36cd2dc70>"
      ]
     },
     "execution_count": 52,
     "metadata": {},
     "output_type": "execute_result"
    }
   ],
   "source": [
    "table.delete_many({})"
   ]
  },
  {
   "cell_type": "code",
   "execution_count": 49,
   "id": "c6f7d3ad-2942-4fcb-8e73-c8c9efcfd19a",
   "metadata": {},
   "outputs": [],
   "source": [
    "with open('productos.json') as f:\n",
    "    productos = json.load(f)"
   ]
  },
  {
   "cell_type": "code",
   "execution_count": 50,
   "id": "1e557138-8077-4bfc-ab79-dc2f50eea12d",
   "metadata": {},
   "outputs": [
    {
     "data": {
      "text/plain": [
       "<pymongo.results.InsertManyResult at 0x1b36ce460d0>"
      ]
     },
     "execution_count": 50,
     "metadata": {},
     "output_type": "execute_result"
    }
   ],
   "source": [
    "table.insert_many(productos)"
   ]
  }
 ],
 "metadata": {
  "kernelspec": {
   "display_name": "Python 3",
   "language": "python",
   "name": "python3"
  },
  "language_info": {
   "codemirror_mode": {
    "name": "ipython",
    "version": 3
   },
   "file_extension": ".py",
   "mimetype": "text/x-python",
   "name": "python",
   "nbconvert_exporter": "python",
   "pygments_lexer": "ipython3",
   "version": "3.8.5"
  }
 },
 "nbformat": 4,
 "nbformat_minor": 5
}
