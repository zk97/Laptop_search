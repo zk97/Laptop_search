{
 "cells": [
  {
   "cell_type": "code",
   "execution_count": 45,
   "id": "cfedf664-9f77-48a7-b70f-e0ead67ce7de",
   "metadata": {},
   "outputs": [],
   "source": [
    "import requests\n",
    "import re\n",
    "from bs4 import BeautifulSoup"
   ]
  },
  {
   "cell_type": "code",
   "execution_count": 36,
   "id": "8e7c47b7-8d49-4ced-81f3-466e90e84d42",
   "metadata": {},
   "outputs": [],
   "source": [
    "respuesta = requests.get('https://intercompras.com/c/laptops-686?page=1')"
   ]
  },
  {
   "cell_type": "code",
   "execution_count": 97,
   "id": "22d37256-d2a6-46a1-a696-67a3cf58af90",
   "metadata": {},
   "outputs": [],
   "source": [
    "a,*b = 'dfa: dfsd:fs'.split(':')"
   ]
  },
  {
   "cell_type": "code",
   "execution_count": 98,
   "id": "a2a0beb4-a74f-4eef-a156-eb80e556fe76",
   "metadata": {},
   "outputs": [
    {
     "data": {
      "text/plain": [
       "'dfa'"
      ]
     },
     "execution_count": 98,
     "metadata": {},
     "output_type": "execute_result"
    }
   ],
   "source": [
    "a"
   ]
  },
  {
   "cell_type": "code",
   "execution_count": 99,
   "id": "3977623e-eaa6-4d76-adac-2c455c5268d8",
   "metadata": {},
   "outputs": [
    {
     "data": {
      "text/plain": [
       "' dfsd:fs'"
      ]
     },
     "execution_count": 99,
     "metadata": {},
     "output_type": "execute_result"
    }
   ],
   "source": [
    "':'.join(b)"
   ]
  },
  {
   "cell_type": "code",
   "execution_count": 39,
   "id": "4a0cbc7a-4c94-4172-9902-d846a2f164af",
   "metadata": {},
   "outputs": [],
   "source": [
    "sopa = BeautifulSoup(respuesta.content)"
   ]
  },
  {
   "cell_type": "code",
   "execution_count": 46,
   "id": "0e4d65d6-9b14-42f2-b576-8edc449c623e",
   "metadata": {},
   "outputs": [],
   "source": [
    "derecha = sopa.select('div.divProductListInfoProductFlex')"
   ]
  },
  {
   "cell_type": "code",
   "execution_count": 57,
   "id": "5b03bdd1-e34c-4f58-8bca-241501731291",
   "metadata": {},
   "outputs": [],
   "source": [
    "nombres = [x.select('div.divProductListTitle')[0].text.strip('\\n ') for x in derecha]"
   ]
  },
  {
   "cell_type": "code",
   "execution_count": 58,
   "id": "f4ace14d-7071-4f8e-83ee-9ab3b08a0f13",
   "metadata": {},
   "outputs": [],
   "source": [
    "modelos = [x.select('div.divProductListFeature.model')[0].text.strip('\\n ') for x in derecha]"
   ]
  },
  {
   "cell_type": "code",
   "execution_count": 68,
   "id": "bfa71967-3c83-4b9c-bee1-41f3a295b5dd",
   "metadata": {},
   "outputs": [],
   "source": [
    "specs = [[y.text.strip('\\n ')\n",
    "          for y in x.select('div.divProductListFeaturesContainer')[0].select('div.divProductListFeature')]\n",
    "         for x in derecha]"
   ]
  },
  {
   "cell_type": "code",
   "execution_count": 75,
   "id": "055e290c-c199-4a21-8b83-7783d6c26b45",
   "metadata": {},
   "outputs": [],
   "source": [
    "precios = [x.select('div.divProductListPriceContainer > div.divProductListPrice')[0].text.strip('\\n ')\n",
    "           for x in derecha]"
   ]
  },
  {
   "cell_type": "code",
   "execution_count": 81,
   "id": "f027bbec-41d5-45a7-b97f-19bf7c0c5435",
   "metadata": {},
   "outputs": [
    {
     "data": {
      "text/plain": [
       "['$14,019.00',\n",
       " '$15,009.00',\n",
       " '$13,659.00',\n",
       " '$17,019.00',\n",
       " '$14,899.00',\n",
       " '$13,339.00',\n",
       " '$23,459.00',\n",
       " '$13,199.00',\n",
       " '$11,829.00',\n",
       " '$11,739.00',\n",
       " '$25,169.00',\n",
       " '$22,279.00',\n",
       " '$5,179.00',\n",
       " '$19,999.00',\n",
       " '$46,959.00',\n",
       " '$8,529.00',\n",
       " '$16,679.00',\n",
       " '$22,699.00',\n",
       " '$13,699.00',\n",
       " '$48,459.00']"
      ]
     },
     "execution_count": 81,
     "metadata": {},
     "output_type": "execute_result"
    }
   ],
   "source": [
    "precios"
   ]
  },
  {
   "cell_type": "code",
   "execution_count": 31,
   "id": "2c497f3c-8685-456e-aa52-430cdd386dfa",
   "metadata": {},
   "outputs": [
    {
     "data": {
      "text/plain": [
       "'ad 2022-05-20'"
      ]
     },
     "execution_count": 31,
     "metadata": {},
     "output_type": "execute_result"
    }
   ],
   "source": [
    "f'ad {a.date()}'"
   ]
  },
  {
   "cell_type": "code",
   "execution_count": 1,
   "id": "3a8e4446-d3e6-4658-be09-9c84c431d87f",
   "metadata": {},
   "outputs": [],
   "source": [
    "import re\n",
    "import json\n",
    "import requests\n",
    "from bs4 import BeautifulSoup\n",
    "\n",
    "url_base = 'https://www.cyberpuerta.mx/Computadoras/Laptops/'\n",
    "full_info = []\n",
    "\n",
    "def get_paginas():\n",
    "    try:\n",
    "        return int(input('Numero de paginas: '))\n",
    "    except:\n",
    "        print('Dar un numero valido')\n",
    "        return get_paginas()\n",
    "\n",
    "def scrape_page(page_number, paginas):\n",
    "    response = requests.get(url_base+page_number)\n",
    "    print(f'Escrapeando pagina {page_number} de {paginas}\\tStatus: {response.status_code}', end = '\\r')\n",
    "    \n",
    "    soup = BeautifulSoup(response.content, 'lxml')\n",
    "    derechas = soup.select('div.emproduct>form>div.emproduct_right')\n",
    "    nombres = [x.a.text.strip('\\n') for x in derechas]\n",
    "    infos = [x.select('div.emproduct_left_attribute_price')[0] for x in derechas]\n",
    "    specs = [[y.text for y in x.select('div.emproduct_right_attribute>ul>li')] for x in infos]\n",
    "    precios = [x.select('div.emproduct_right_price')[0].select('label.price')[0].text.strip('\\n')\n",
    "           for x in derechas]\n",
    "    \n",
    "    for na, sp, pr in zip(nombres, specs, precios):\n",
    "        all_specs = [f'Nombre: {na}']+sp+[f'Precio: {pr}']\n",
    "        full_info.append({key.strip(', '): val.strip(', ') for key,val in \n",
    "                          [pair.split(':') for pair in all_specs]})\n",
    "        \n",
    "def main(paginas):\n",
    "    \n",
    "    for i in range(1,paginas+1):\n",
    "        scrape_page(str(i), paginas)\n",
    "        \n",
    "    with open('productos_cyberpuerta.json', 'w') as f:\n",
    "        json.dump(full_info, f)\n",
    "    print('Proceso terminado'+' '*100)"
   ]
  },
  {
   "cell_type": "code",
   "execution_count": 4,
   "id": "1c5cca36-42d3-4e21-9523-f372d7df36b3",
   "metadata": {},
   "outputs": [],
   "source": [
    "url_base = 'https://www.cyberpuerta.mx/Computadoras/Laptops/1'\n",
    "response = requests.get(url_base)"
   ]
  },
  {
   "cell_type": "code",
   "execution_count": 5,
   "id": "69da4726-5444-43a9-a6ce-444ba7993beb",
   "metadata": {},
   "outputs": [],
   "source": [
    "soup = BeautifulSoup(response.content, 'lxml')\n",
    "derechas = soup.select('div.emproduct>form>div.emproduct_right')"
   ]
  },
  {
   "cell_type": "code",
   "execution_count": 14,
   "id": "ccd7daca-3548-43aa-bd97-d1db37ab2c2c",
   "metadata": {},
   "outputs": [
    {
     "data": {
      "text/plain": [
       "'\\nSKU: V5415_R58256GW10PS_122\\n'"
      ]
     },
     "execution_count": 14,
     "metadata": {},
     "output_type": "execute_result"
    }
   ],
   "source": [
    "derechas[0].select('div.emproduct_right_artnum')[0].text"
   ]
  },
  {
   "cell_type": "code",
   "execution_count": null,
   "id": "a62f47b4-8eb7-4373-b878-fafbad701030",
   "metadata": {},
   "outputs": [],
   "source": []
  },
  {
   "cell_type": "code",
   "execution_count": null,
   "id": "740b45fa-53fd-4775-95a5-08d7a4ee6321",
   "metadata": {},
   "outputs": [],
   "source": []
  },
  {
   "cell_type": "code",
   "execution_count": 41,
   "id": "e095e0d0-e484-48ed-9839-fdb99ef18258",
   "metadata": {},
   "outputs": [],
   "source": [
    "import json\n",
    "import configparser\n",
    "from pymongo import MongoClient"
   ]
  },
  {
   "cell_type": "code",
   "execution_count": 42,
   "id": "aac7ddc1-b19b-43b5-bffc-70924dbc7f7d",
   "metadata": {},
   "outputs": [],
   "source": [
    "config = configparser.ConfigParser()"
   ]
  },
  {
   "cell_type": "code",
   "execution_count": 43,
   "id": "8fae53c0-267b-4ed6-bc22-16008cf22b0d",
   "metadata": {},
   "outputs": [
    {
     "data": {
      "text/plain": [
       "['config.conf']"
      ]
     },
     "execution_count": 43,
     "metadata": {},
     "output_type": "execute_result"
    }
   ],
   "source": [
    "config.read('config.conf')"
   ]
  },
  {
   "cell_type": "code",
   "execution_count": 44,
   "id": "51f20f54-27fd-4239-8ffc-82767e25ed4e",
   "metadata": {},
   "outputs": [],
   "source": [
    "mongo_data = config['MONGO']"
   ]
  },
  {
   "cell_type": "code",
   "execution_count": 45,
   "id": "ae75ca56-89b8-4c35-8c99-33bcedfbd69c",
   "metadata": {},
   "outputs": [],
   "source": [
    "path_mongo = f'mongodb+srv://{mongo_data[\"user\"]}:{mongo_data[\"password\"]}{mongo_data[\"cluster\"]}'"
   ]
  },
  {
   "cell_type": "code",
   "execution_count": 46,
   "id": "31521194-6c3d-4967-9e9f-ac41742bc488",
   "metadata": {},
   "outputs": [],
   "source": [
    "client = MongoClient(path_mongo)"
   ]
  },
  {
   "cell_type": "code",
   "execution_count": 47,
   "id": "5448cbd8-26ed-43ca-8089-d1f9d22b6b02",
   "metadata": {},
   "outputs": [],
   "source": [
    "laptops = client['laptops']"
   ]
  },
  {
   "cell_type": "code",
   "execution_count": 48,
   "id": "f717f738-32e4-45a1-8d5f-f5dea0fadcff",
   "metadata": {},
   "outputs": [],
   "source": [
    "table = laptops['cyberpuerta']"
   ]
  },
  {
   "cell_type": "code",
   "execution_count": 52,
   "id": "38a3bfc7-2176-42bb-9608-af7c08ab1adf",
   "metadata": {},
   "outputs": [
    {
     "data": {
      "text/plain": [
       "<pymongo.results.DeleteResult at 0x1b36cd2dc70>"
      ]
     },
     "execution_count": 52,
     "metadata": {},
     "output_type": "execute_result"
    }
   ],
   "source": [
    "table.delete_many({})"
   ]
  },
  {
   "cell_type": "code",
   "execution_count": 49,
   "id": "c6f7d3ad-2942-4fcb-8e73-c8c9efcfd19a",
   "metadata": {},
   "outputs": [],
   "source": [
    "with open('productos.json') as f:\n",
    "    productos = json.load(f)"
   ]
  },
  {
   "cell_type": "code",
   "execution_count": 50,
   "id": "1e557138-8077-4bfc-ab79-dc2f50eea12d",
   "metadata": {},
   "outputs": [
    {
     "data": {
      "text/plain": [
       "<pymongo.results.InsertManyResult at 0x1b36ce460d0>"
      ]
     },
     "execution_count": 50,
     "metadata": {},
     "output_type": "execute_result"
    }
   ],
   "source": [
    "table.insert_many(productos)"
   ]
  }
 ],
 "metadata": {
  "kernelspec": {
   "display_name": "Python 3",
   "language": "python",
   "name": "python3"
  },
  "language_info": {
   "codemirror_mode": {
    "name": "ipython",
    "version": 3
   },
   "file_extension": ".py",
   "mimetype": "text/x-python",
   "name": "python",
   "nbconvert_exporter": "python",
   "pygments_lexer": "ipython3",
   "version": "3.8.5"
  }
 },
 "nbformat": 4,
 "nbformat_minor": 5
}
